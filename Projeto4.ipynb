{
 "cells": [
  {
   "cell_type": "markdown",
   "metadata": {},
   "source": [
    "# PROJETO 2 \n",
    "## Aluno 1: João Pedro Ramos Belmiro - 9791198  \n",
    "## Aluno 2: Matheus Aparecido do Carmo Alves - 9791114  "
   ]
  },
  {
   "cell_type": "markdown",
   "metadata": {},
   "source": [
    "### <a id=\"lista\">Exercícios</a> \n",
    "\n",
    "[Exercício 01](#1)\n",
    "[Exercício 02](#2)\n",
    "[Exercício 03](#3)"
   ]
  },
  {
   "cell_type": "markdown",
   "metadata": {},
   "source": [
    "## Imports"
   ]
  },
  {
   "cell_type": "code",
   "execution_count": 1,
   "metadata": {},
   "outputs": [],
   "source": [
    "import matplotlib.pyplot as plt\n",
    "import networkx as nx\n",
    "import numpy as np\n",
    "import random \n",
    "import pandas as pd\n",
    "\n",
    "np.random.seed(101)"
   ]
  },
  {
   "cell_type": "markdown",
   "metadata": {},
   "source": [
    "## <a id=\"1\">EXERCÍCIO 1</a>"
   ]
  },
  {
   "cell_type": "markdown",
   "metadata": {},
   "source": [
    "## Parte 1\n",
    "Primeiramente, iremos carregar as redes necessárias para esta primeira parte do projeto. \n",
    "\n",
    "Serão geradas 5 redes com 500 nós e grau médio 4, sendo elas:\n",
    "\n",
    "<ul>\n",
    "    <li>Erdös-Rényi\tnetwork;</li>\n",
    "    <li>Barabási-Albert\tscale-free network;</li>\n",
    "    <li>Small-world\tnetworks for p=0.001, p=0.01 and p=0.1.</li>\n",
    "</ul>"
   ]
  },
  {
   "cell_type": "code",
   "execution_count": 2,
   "metadata": {},
   "outputs": [],
   "source": [
    "# 1. Setting networks parameters\n",
    "N = 500             # number of nodes\n",
    "av_degree = 4       # average degree\n",
    "p = av_degree/(N-1) # probability\n",
    "\n",
    "# 2. Building Networks\n",
    "erdos = nx.gnp_random_graph(N, p, seed=None, directed=False)\n",
    "bara = nx.barabasi_albert_graph(N, int(av_degree/2))\n",
    "sw001 = nx.watts_strogatz_graph(N, int(av_degree/2), 0.001, seed=None)\n",
    "sw01 = nx.watts_strogatz_graph(N, int(av_degree/2), 0.01, seed=None)\n",
    "sw1 = nx.watts_strogatz_graph(N, int(av_degree/2), 0.1, seed=None)"
   ]
  },
  {
   "cell_type": "markdown",
   "metadata": {},
   "source": [
    "Com as redes carregadas, iremos testar a robustez das redes contra falha e ataque.\n",
    "\n",
    "### a) Failures\n",
    "\n",
    "Primeiramente, vamos definir as funções para realizar os cálculos necessários."
   ]
  },
  {
   "cell_type": "code",
   "execution_count": 21,
   "metadata": {},
   "outputs": [],
   "source": [
    "def failures(H, times=10):\n",
    "    mean_S = []\n",
    "    mean_vn = []\n",
    "    for i in range(0, times):\n",
    "        G = H.copy()\n",
    "        N0 = len(G)\n",
    "        vn = []\n",
    "        S = []\n",
    "        n = 0 #number of nodes removed\n",
    "        while(len(G.nodes()) > int(0.01*N0)):\n",
    "            node = random.choice(list(G.nodes())) #select the node on the largest component\n",
    "            G.remove_node(node) \n",
    "            Gcc=sorted(nx.connected_component_subgraphs(G), key = len, reverse=True)\n",
    "            Glc=Gcc[0] \n",
    "            S.append(len(Glc)/N0) #store the size of the largest component\n",
    "            n = n + 1\n",
    "            vn.append(n/N0)\n",
    "        mean_S.append(S)\n",
    "        mean_vn.append(vn)\n",
    "        \n",
    "    df_s = pd.DataFrame(mean_S)\n",
    "    df_vn = pd.DataFrame(mean_vn)\n",
    "    \n",
    "    mean_S = []\n",
    "    mean_vn = []\n",
    "    for i in range(0, df_s.shape[1]):\n",
    "        mean_S.append(df_s[i].mean())\n",
    "        mean_vn.append(df_vn[i].mean())\n",
    "    return mean_S, mean_vn"
   ]
  },
  {
   "cell_type": "markdown",
   "metadata": {},
   "source": [
    "Agora vamos calcular as falhas associadas a cada rede."
   ]
  },
  {
   "cell_type": "code",
   "execution_count": 4,
   "metadata": {},
   "outputs": [],
   "source": [
    "S_erdos, vn_erdos = failures(erdos)\n",
    "S_bara, vn_bara = failures(bara)\n",
    "S_sw001, vn_sw001 = failures(sw001)\n",
    "S_sw01, vn_sw01 = failures(sw01)\n",
    "S_sw1, vn_sw1 = failures(sw1)"
   ]
  },
  {
   "cell_type": "markdown",
   "metadata": {},
   "source": [
    "Gerando os gráficos dos resultados obtidos, temos:"
   ]
  },
  {
   "cell_type": "code",
   "execution_count": 5,
   "metadata": {},
   "outputs": [
    {
     "data": {
      "image/png": "[encoded data removed]",
      "text/plain": [
       "<Figure size 432x288 with 1 Axes>"
      ]
     },
     "metadata": {
      "needs_background": "light"
     },
     "output_type": "display_data"
    }
   ],
   "source": [
    "plt.figure()\n",
    "\n",
    "plt.plot(vn_erdos,S_erdos,'-or', label='ER')\n",
    "plt.plot(vn_bara,S_bara,'-ob', label='BA')\n",
    "plt.plot(vn_sw001,S_sw001,'-oy', label='SW0.001')\n",
    "plt.plot(vn_sw01,S_sw01,'-og', label='SW0.01')\n",
    "plt.plot(vn_sw1,S_sw1,'-ok', label='SW0.1')\n",
    "\n",
    "plt.legend()\n",
    "plt.xlabel(\"f\", fontsize=20)\n",
    "plt.ylabel(\"S\", fontsize=20)\n",
    "plt.title(\"Failures\", fontsize=30)\n",
    "plt.grid(True)\n",
    "plt.show(); "
   ]
  },
  {
   "cell_type": "markdown",
   "metadata": {},
   "source": [
    "### b) Attacks\n",
    "\n",
    "Primeiramente, vamos definir as funções para realizar os cálculos necessários."
   ]
  },
  {
   "cell_type": "code",
   "execution_count": 20,
   "metadata": {},
   "outputs": [],
   "source": [
    "def most_connected(G): # This function is used to find the most connected node\n",
    "    maxk = 0\n",
    "    node = 0\n",
    "    for i in G.nodes():\n",
    "        if(G.degree(i) >= maxk):\n",
    "            maxk = G.degree(i)\n",
    "            node = i\n",
    "    return node \n",
    "\n",
    "def attacks(H, times=10):\n",
    "    mean_S = []\n",
    "    mean_vn = []\n",
    "    for i in range(0, times):\n",
    "        G = H.copy()    \n",
    "        N0 = len(G)\n",
    "        vn = []\n",
    "        S = []\n",
    "        n = 0 #number of nodes removed\n",
    "        while(len(G.nodes()) > int(0.01*N0)):\n",
    "            node = most_connected(G) #select the most connected node on the largest component   \n",
    "            G.remove_node(node) \n",
    "            Gcc=sorted(nx.connected_component_subgraphs(G), key = len, reverse=True)\n",
    "            Glc=Gcc[0] \n",
    "            S.append(len(Glc)/N0) #store the size of the largest component\n",
    "            n = n + 1\n",
    "            vn.append(n/N0)\n",
    "        mean_S.append(S)\n",
    "        mean_vn.append(vn)\n",
    "        \n",
    "    df_s = pd.DataFrame(mean_S)\n",
    "    df_vn = pd.DataFrame(mean_vn)\n",
    "    \n",
    "    mean_S = []\n",
    "    mean_vn = []\n",
    "    for i in range(0, df_s.shape[1]):\n",
    "        mean_S.append(df_s[i].mean())\n",
    "        mean_vn.append(df_vn[i].mean())\n",
    "    return mean_S, mean_vn"
   ]
  },
  {
   "cell_type": "markdown",
   "metadata": {},
   "source": [
    "Agora vamos calcular os ataques associadas a cada rede."
   ]
  },
  {
   "cell_type": "code",
   "execution_count": 8,
   "metadata": {},
   "outputs": [],
   "source": [
    "S_erdos, vn_erdos = attacks(erdos)\n",
    "S_bara, vn_bara = attacks(bara)\n",
    "S_sw001, vn_sw001 = attacks(sw001)\n",
    "S_sw01, vn_sw01 = attacks(sw01)\n",
    "S_sw1, vn_sw1 = attacks(sw1)"
   ]
  },
  {
   "cell_type": "markdown",
   "metadata": {},
   "source": [
    "Gerando os gráficos dos resultados obtidos, temos:"
   ]
  },
  {
   "cell_type": "code",
   "execution_count": 9,
   "metadata": {},
   "outputs": [
    {
     "data": {
      "image/png": "[encoded data removed]",
      "text/plain": [
       "<Figure size 432x288 with 1 Axes>"
      ]
     },
     "metadata": {
      "needs_background": "light"
     },
     "output_type": "display_data"
    }
   ],
   "source": [
    "plt.figure()\n",
    "plt.plot(vn_erdos,S_erdos,'-or', label='ER')\n",
    "plt.plot(vn_bara,S_bara,'-ob', label='BA')\n",
    "plt.plot(vn_sw001,S_sw001,'-oy', label='SW0.001')\n",
    "plt.plot(vn_sw01,S_sw01,'-og', label='SW0.01')\n",
    "plt.plot(vn_sw1,S_sw1,'-ok', label='SW0.1')\n",
    "plt.legend()\n",
    "plt.xlabel(\"f\", fontsize=20)\n",
    "plt.ylabel(\"S\", fontsize=20)\n",
    "plt.title(\"Attacks\", fontsize=30)\n",
    "plt.grid(True)\n",
    "plt.show(); "
   ]
  },
  {
   "cell_type": "markdown",
   "metadata": {},
   "source": [
    "## Parte 2 \n",
    "\n",
    "Primeiramente, iremos carregar as 3 redes necessárias para esta primeira parte do projeto, sendo elas:\n",
    "\n",
    "<ul>\n",
    "    <li>Human Protein network;</li>\n",
    "    <li>C. elegans protein network;</li>\n",
    "    <li>Mosquito interaction network (A. aegypti).</li>\n",
    "</ul>"
   ]
  },
  {
   "cell_type": "code",
   "execution_count": 4,
   "metadata": {},
   "outputs": [],
   "source": [
    "human = nx.Graph()\n",
    "human = nx.read_weighted_edgelist('Networks/human_proteins', nodetype=int, comments='%')\n",
    "human = human.to_undirected()\n",
    "human.remove_edges_from(nx.selfloop_edges(human))\n",
    "\n",
    "elegans07 = nx.Graph()\n",
    "elegans07 = nx.read_edgelist(\"Networks/wi2007.txt\", nodetype=str)\n",
    "elegans07 = elegans07.to_undirected()\n",
    "elegans07 = nx.convert_node_labels_to_integers(elegans07, first_label=0)\n",
    "elegans07.remove_edges_from(nx.selfloop_edges(elegans07))\n",
    "\n",
    "df = pd.read_csv('Networks/mosquito.csv')\n",
    "mosquito = nx.from_pandas_edgelist(df, source='Gene1', target='Gene2', edge_attr=None)\n",
    "mosquito = mosquito.to_undirected()"
   ]
  },
  {
   "cell_type": "markdown",
   "metadata": {},
   "source": [
    "vamos agora realizar os ataques e falhas nas redes"
   ]
  },
  {
   "cell_type": "code",
   "execution_count": null,
   "metadata": {},
   "outputs": [],
   "source": [
    "f_S_human, f_vn_human = failures(human)\n",
    "a_S_human, a_vn_human = attacks(human)"
   ]
  },
  {
   "cell_type": "code",
   "execution_count": null,
   "metadata": {},
   "outputs": [],
   "source": [
    "f_S_elegans07, f_vn_elegans07 = failures(elegans07)\n",
    "a_S_elegans07, a_vn_elegans07 = attacks(elegans07)"
   ]
  },
  {
   "cell_type": "code",
   "execution_count": null,
   "metadata": {},
   "outputs": [],
   "source": [
    "f_S_mosquito, f_vn_mosquito = failures(mosquito)\n",
    "a_S_mosquito, a_vn_mosquito = attacks(mosquito)"
   ]
  },
  {
   "cell_type": "markdown",
   "metadata": {},
   "source": [
    "Construindo o gráfico de resultados, temos:"
   ]
  },
  {
   "cell_type": "code",
   "execution_count": null,
   "metadata": {},
   "outputs": [],
   "source": [
    "plt.figure()\n",
    "plt.plot(f_vn_human,f_S_human,'-or', label='Human')\n",
    "plt.plot(f_vn_elegans07,f_S_elegans07,'-ob', label='C.Elegans')\n",
    "plt.plot(f_vn_mosquito,f_S_mosquito,'-oy', label='Mosquito')\n",
    "plt.legend()\n",
    "plt.xlabel(\"f\", fontsize=20)\n",
    "plt.ylabel(\"S\", fontsize=20)\n",
    "plt.title(\"Failures\", fontsize=30)\n",
    "plt.grid(True)\n",
    "plt.show(); \n",
    "\n",
    "plt.figure()\n",
    "plt.plot(a_vn_human,a_S_human,'-or', label='Human')\n",
    "plt.plot(a_vn_elegans07,a_S_elegans07,'-ob', label='C.Elegans')\n",
    "plt.plot(a_vn_mosquito,a_S_mosquito,'-oy', label='Mosquito')\n",
    "plt.legend()\n",
    "plt.xlabel(\"f\", fontsize=20)\n",
    "plt.ylabel(\"S\", fontsize=20)\n",
    "plt.title(\"Attacks\", fontsize=30)\n",
    "plt.grid(True)\n",
    "plt.show(); "
   ]
  },
  {
   "cell_type": "markdown",
   "metadata": {},
   "source": [
    "## Parte 3"
   ]
  },
  {
   "cell_type": "code",
   "execution_count": null,
   "metadata": {},
   "outputs": [],
   "source": [
    "# 1. Defining the parameters\n",
    "N = 400\n",
    "tau1 = 3\n",
    "tau2 = 1.5\n",
    "k = 16\n",
    "minc = 32\n",
    "maxc = 50\n",
    "\n",
    "# 2. Running Santo Fortunato\n",
    "for mu in [0.1,0.3,0.5]:\n",
    "    # a. generating the graph\n",
    "    G = nx.algorithms.community.LFR_benchmark_graph(n = N, tau1 = tau1,\n",
    "        tau2 = tau2, mu = mu, min_degree = k,\n",
    "        max_degree = k, min_community=minc,\n",
    "        max_community = maxc, seed = 10)\n",
    "    \n",
    "    # b. calculating fail and attack\n",
    "    fail, Sf = failures(G)\n",
    "    attack, Sa = attacks(G)\n",
    "    \n",
    "    # c. plotting\n",
    "    plt.figure()\n",
    "    plt.plot(fail,Sf,'-or', label='Failures')\n",
    "    plt.plot(attack,Sa,'-ob', label='Attacks')\n",
    "    plt.xlabel(\"f\", fontsize=20)\n",
    "    plt.ylabel(\"S\", fontsize=20)\n",
    "    plt.title('Graph mu='+str(mu))\n",
    "    plt.legend()\n",
    "    plt.grid(True)\n",
    "    plt.show();"
   ]
  },
  {
   "cell_type": "markdown",
   "metadata": {},
   "source": [
    "[Voltar para o topo](#lista)"
   ]
  },
  {
   "cell_type": "markdown",
   "metadata": {},
   "source": [
    "## <a id=\"2\">EXERCÍCIO 2</a>\n",
    "### a) SIS\n",
    "\n",
    "Primeiramente, vamos definir o método para implementar a função SIS."
   ]
  },
  {
   "cell_type": "code",
   "execution_count": 14,
   "metadata": {},
   "outputs": [],
   "source": [
    "def SIS(G, mu=1, Tmax = 20):    \n",
    "    vlbda = list()\n",
    "    rhoI = list() # vector that stores the fraction of infected nodes according to the parameter lambda\n",
    "    for lbd in np.arange(0,1, 0.05):\n",
    "        beta = lbd*mu\n",
    "        #Reactive process: SIS dynamics\n",
    "        av_rho = np.zeros(Tmax)\n",
    "        for seed_node in G.nodes():\n",
    "            vector_states = np.zeros(N) # vector that stores the states of the vertices\n",
    "            vector_states[seed_node] = 1 # vector that stores the states\n",
    "            ninfected = 1\n",
    "            infected = list() # Stores the number of infected nodes at each time step\n",
    "            vrho = list()\n",
    "            # Reactive model\n",
    "            for t in np.arange(0, Tmax): # Simulate until a maximum number of steps Tmax\n",
    "                infected = find(vector_states,1) # list of infected nodes\n",
    "                for i in infected: # try to infect the neighbors\n",
    "                    neigs = G.neighbors(i)\n",
    "                    for j in neigs:\n",
    "                        if np.random.rand() < beta:\n",
    "                            vector_states[j] = 1\n",
    "                for k in infected: # try to recover the infected nodes\n",
    "                    if np.random.rand() < mu:\n",
    "                        vector_states[k] = 0\n",
    "                ninfected = len(find(vector_states,1))\n",
    "                vrho.append(ninfected/N)\n",
    "            for x in np.arange(0, len(vrho)):\n",
    "                av_rho[x] = av_rho[x] + vrho[x]\n",
    "        av_rho = av_rho/len(G.nodes())\n",
    "        rhoI.append(np.mean(av_rho[np.arange(int(0.8*Tmax), Tmax)]))\n",
    "        vlbda.append(lbd)\n",
    "    return vlbda, rhoI"
   ]
  },
  {
   "cell_type": "markdown",
   "metadata": {},
   "source": [
    "Serão geradas 5 redes com 500 nós e grau médio 8."
   ]
  },
  {
   "cell_type": "code",
   "execution_count": 15,
   "metadata": {},
   "outputs": [],
   "source": [
    "# 1. Setting networks parameters\n",
    "N = 500              # number of nodes\n",
    "av_degree = 8        # average degree\n",
    "p = av_degree/(N-1)  # probability\n",
    "m = int(av_degree/2) # probability for edge creation\n",
    "\n",
    "# 2. Building Networks\n",
    "erdos = nx.gnp_random_graph(N, p, seed=None, directed=False)\n",
    "bara = nx.barabasi_albert_graph(N, m)\n",
    "sw001 = nx.watts_strogatz_graph(N, m, 0.001, seed=None)\n",
    "sw01 = nx.watts_strogatz_graph(N, m, 0.01, seed=None)\n",
    "sw1 = nx.watts_strogatz_graph(N, m, 0.1, seed=None)"
   ]
  },
  {
   "cell_type": "markdown",
   "metadata": {},
   "source": [
    "Definiremos agora os métodos para construir os gráficos SIS."
   ]
  },
  {
   "cell_type": "code",
   "execution_count": 16,
   "metadata": {},
   "outputs": [],
   "source": [
    "def find(v, i): # function to find the positions of an element in a vector\n",
    "        l = []\n",
    "        pos = 0\n",
    "        for x in v:\n",
    "            if(x == i):\n",
    "                l.append(pos)\n",
    "            pos = pos + 1\n",
    "        return l\n",
    "\n",
    "def momment_of_degree_distribution(G,m):\n",
    "    M = 0\n",
    "    N = len(G)\n",
    "    for i in G.nodes():\n",
    "        M = M + G.degree(i)**m\n",
    "    M = M/N\n",
    "    return M\n",
    "\n",
    "def plot_SIS(G, name):\n",
    "    lbda, rho  = SIS(G)\n",
    "    plt.figure()\n",
    "    plt.plot(lbda, rho, 'ro--', label='Simulation')\n",
    "    plt.xlabel(\"lambda\", fontsize=15)\n",
    "    plt.ylabel(\"Fraction of infected nodes\", fontsize=15)\n",
    "    lambda_c = momment_of_degree_distribution(G,1)/momment_of_degree_distribution(G,2)\n",
    "    plt.axvline(lambda_c, color = 'b', label='Theoretical lambda_c')\n",
    "    plt.legend()\n",
    "    plt.title(name, fontsize=30)\n",
    "    plt.grid(True)\n",
    "    plt.show(True) "
   ]
  },
  {
   "cell_type": "markdown",
   "metadata": {},
   "source": [
    "Agora, serão construídos os gráficos de propagação de epidemias para cada rede base gerada."
   ]
  },
  {
   "cell_type": "code",
   "execution_count": 17,
   "metadata": {},
   "outputs": [
    {
     "ename": "KeyboardInterrupt",
     "evalue": "",
     "output_type": "error",
     "traceback": [
      "\u001b[0;31m---------------------------------------------------------------------------\u001b[0m",
      "\u001b[0;31mKeyboardInterrupt\u001b[0m                         Traceback (most recent call last)",
      "\u001b[0;32m<ipython-input-17-db9e750068f1>\u001b[0m in \u001b[0;36m<module>\u001b[0;34m\u001b[0m\n\u001b[0;32m----> 1\u001b[0;31m \u001b[0mplot_SIS\u001b[0m\u001b[0;34m(\u001b[0m\u001b[0merdos\u001b[0m\u001b[0;34m,\u001b[0m \u001b[0;34m\"Erdös-Rényi\"\u001b[0m\u001b[0;34m)\u001b[0m\u001b[0;34m\u001b[0m\u001b[0;34m\u001b[0m\u001b[0m\n\u001b[0m\u001b[1;32m      2\u001b[0m \u001b[0mplot_SIS\u001b[0m\u001b[0;34m(\u001b[0m\u001b[0mbara\u001b[0m\u001b[0;34m,\u001b[0m \u001b[0;34m\"Barabási-Albert\"\u001b[0m\u001b[0;34m)\u001b[0m\u001b[0;34m\u001b[0m\u001b[0;34m\u001b[0m\u001b[0m\n\u001b[1;32m      3\u001b[0m \u001b[0mplot_SIS\u001b[0m\u001b[0;34m(\u001b[0m\u001b[0msw001\u001b[0m\u001b[0;34m,\u001b[0m \u001b[0;34m\"Small-World - p=0.001\"\u001b[0m\u001b[0;34m)\u001b[0m\u001b[0;34m\u001b[0m\u001b[0;34m\u001b[0m\u001b[0m\n\u001b[1;32m      4\u001b[0m \u001b[0mplot_SIS\u001b[0m\u001b[0;34m(\u001b[0m\u001b[0msw01\u001b[0m\u001b[0;34m,\u001b[0m \u001b[0;34m\"Small-World - p=0.01\"\u001b[0m\u001b[0;34m)\u001b[0m\u001b[0;34m\u001b[0m\u001b[0;34m\u001b[0m\u001b[0m\n\u001b[1;32m      5\u001b[0m \u001b[0mplot_SIS\u001b[0m\u001b[0;34m(\u001b[0m\u001b[0msw1\u001b[0m\u001b[0;34m,\u001b[0m \u001b[0;34m\"Small-World - p=0.1\"\u001b[0m\u001b[0;34m)\u001b[0m\u001b[0;34m\u001b[0m\u001b[0;34m\u001b[0m\u001b[0m\n",
      "\u001b[0;32m<ipython-input-16-9fd949455607>\u001b[0m in \u001b[0;36mplot_SIS\u001b[0;34m(G, name)\u001b[0m\n\u001b[1;32m     17\u001b[0m \u001b[0;34m\u001b[0m\u001b[0m\n\u001b[1;32m     18\u001b[0m \u001b[0;32mdef\u001b[0m \u001b[0mplot_SIS\u001b[0m\u001b[0;34m(\u001b[0m\u001b[0mG\u001b[0m\u001b[0;34m,\u001b[0m \u001b[0mname\u001b[0m\u001b[0;34m)\u001b[0m\u001b[0;34m:\u001b[0m\u001b[0;34m\u001b[0m\u001b[0;34m\u001b[0m\u001b[0m\n\u001b[0;32m---> 19\u001b[0;31m     \u001b[0mlbda\u001b[0m\u001b[0;34m,\u001b[0m \u001b[0mrho\u001b[0m  \u001b[0;34m=\u001b[0m \u001b[0mSIS\u001b[0m\u001b[0;34m(\u001b[0m\u001b[0mG\u001b[0m\u001b[0;34m)\u001b[0m\u001b[0;34m\u001b[0m\u001b[0;34m\u001b[0m\u001b[0m\n\u001b[0m\u001b[1;32m     20\u001b[0m     \u001b[0mplt\u001b[0m\u001b[0;34m.\u001b[0m\u001b[0mfigure\u001b[0m\u001b[0;34m(\u001b[0m\u001b[0;34m)\u001b[0m\u001b[0;34m\u001b[0m\u001b[0;34m\u001b[0m\u001b[0m\n\u001b[1;32m     21\u001b[0m     \u001b[0mplt\u001b[0m\u001b[0;34m.\u001b[0m\u001b[0mplot\u001b[0m\u001b[0;34m(\u001b[0m\u001b[0mlbda\u001b[0m\u001b[0;34m,\u001b[0m \u001b[0mrho\u001b[0m\u001b[0;34m,\u001b[0m \u001b[0;34m'ro--'\u001b[0m\u001b[0;34m,\u001b[0m \u001b[0mlabel\u001b[0m\u001b[0;34m=\u001b[0m\u001b[0;34m'Simulation'\u001b[0m\u001b[0;34m)\u001b[0m\u001b[0;34m\u001b[0m\u001b[0;34m\u001b[0m\u001b[0m\n",
      "\u001b[0;32m<ipython-input-14-c3c2bfe89403>\u001b[0m in \u001b[0;36mSIS\u001b[0;34m(G, mu, Tmax)\u001b[0m\n\u001b[1;32m     18\u001b[0m                     \u001b[0mneigs\u001b[0m \u001b[0;34m=\u001b[0m \u001b[0mG\u001b[0m\u001b[0;34m.\u001b[0m\u001b[0mneighbors\u001b[0m\u001b[0;34m(\u001b[0m\u001b[0mi\u001b[0m\u001b[0;34m)\u001b[0m\u001b[0;34m\u001b[0m\u001b[0;34m\u001b[0m\u001b[0m\n\u001b[1;32m     19\u001b[0m                     \u001b[0;32mfor\u001b[0m \u001b[0mj\u001b[0m \u001b[0;32min\u001b[0m \u001b[0mneigs\u001b[0m\u001b[0;34m:\u001b[0m\u001b[0;34m\u001b[0m\u001b[0;34m\u001b[0m\u001b[0m\n\u001b[0;32m---> 20\u001b[0;31m                         \u001b[0;32mif\u001b[0m \u001b[0mnp\u001b[0m\u001b[0;34m.\u001b[0m\u001b[0mrandom\u001b[0m\u001b[0;34m.\u001b[0m\u001b[0mrand\u001b[0m\u001b[0;34m(\u001b[0m\u001b[0;34m)\u001b[0m \u001b[0;34m<\u001b[0m \u001b[0mbeta\u001b[0m\u001b[0;34m:\u001b[0m\u001b[0;34m\u001b[0m\u001b[0;34m\u001b[0m\u001b[0m\n\u001b[0m\u001b[1;32m     21\u001b[0m                             \u001b[0mvector_states\u001b[0m\u001b[0;34m[\u001b[0m\u001b[0mj\u001b[0m\u001b[0;34m]\u001b[0m \u001b[0;34m=\u001b[0m \u001b[0;36m1\u001b[0m\u001b[0;34m\u001b[0m\u001b[0;34m\u001b[0m\u001b[0m\n\u001b[1;32m     22\u001b[0m                 \u001b[0;32mfor\u001b[0m \u001b[0mk\u001b[0m \u001b[0;32min\u001b[0m \u001b[0minfected\u001b[0m\u001b[0;34m:\u001b[0m \u001b[0;31m# try to recover the infected nodes\u001b[0m\u001b[0;34m\u001b[0m\u001b[0;34m\u001b[0m\u001b[0m\n",
      "\u001b[0;31mKeyboardInterrupt\u001b[0m: "
     ]
    }
   ],
   "source": [
    "plot_SIS(erdos, \"Erdös-Rényi\")\n",
    "plot_SIS(bara, \"Barabási-Albert\")\n",
    "plot_SIS(sw001, \"Small-World - p=0.001\")\n",
    "plot_SIS(sw01, \"Small-World - p=0.01\")\n",
    "plot_SIS(sw1, \"Small-World - p=0.1\")"
   ]
  },
  {
   "cell_type": "markdown",
   "metadata": {},
   "source": [
    "### b) SIR\n",
    "\n",
    "Primeiramente, vamos definir o método para implementar a função SIR."
   ]
  },
  {
   "cell_type": "code",
   "execution_count": 1,
   "metadata": {},
   "outputs": [],
   "source": [
    "def SIR(G, mu=1, Tmax = 20):    \n",
    "    vlbda = list()\n",
    "    rhoI = list() # vector that stores the fraction of infected nodes according to the parameter lambda\n",
    "    for lbd in arange(0,1, 0.05):\n",
    "        beta = lbd*mu\n",
    "        #Reactive process: SIR dynamics\n",
    "        av_rho = np.zeros(Tmax)\n",
    "        for seed_node in G.nodes():\n",
    "            vector_states = np.zeros(N) # vector that stores the states of the vertices\n",
    "            vector_states[seed_node] = 1 # vector that stores the states\n",
    "            ninfected = 1\n",
    "            infected = list() # Stores the number of infected nodes at each time step\n",
    "            vrho = list()\n",
    "            # Reactive model\n",
    "            for t in arange(0, Tmax): # Simulate until a maximum number of steps Tmax\n",
    "                infected = find(vector_states,1) # list of infected nodes\n",
    "                for i in infected: # try to infect the neighbors\n",
    "                    neigs = G.neighbors(i)\n",
    "                    for j in neigs:\n",
    "                        if np.random.rand() < beta:\n",
    "                            if(vector_states[j] != 2): # verify if the node is not recovered\n",
    "                                vector_states[j] = 1\n",
    "                for k in infected: # try to recover the infected nodes\n",
    "                    if np.random.rand() < mu:\n",
    "                        vector_states[k] = 2\n",
    "                ninfected = len(find(vector_states,1))\n",
    "                vrho.append(ninfected/N)\n",
    "            for x in arange(0, len(vrho)):\n",
    "                av_rho[x] = av_rho[x] + vrho[x]\n",
    "        av_rho = av_rho/len(G.nodes())\n",
    "        rhoI.append(mean(av_rho[arange(int(0.8*Tmax), Tmax)]))\n",
    "        vlbda.append(lbd)\n",
    "    return vlbda, rhoI"
   ]
  },
  {
   "cell_type": "markdown",
   "metadata": {},
   "source": [
    "Definiremos agora os métodos para construir os gráficos SIR."
   ]
  },
  {
   "cell_type": "code",
   "execution_count": 7,
   "metadata": {},
   "outputs": [],
   "source": [
    "def plot_SIR(G, name):\n",
    "    lbda, rho  = SIR(G)\n",
    "    plt.figure()\n",
    "    plt.plot(lbda, rho, 'ro--', label='Simulation')\n",
    "    plt.xlabel(\"lambda\", fontsize=15)\n",
    "    plt.ylabel(\"Fraction of infected nodes\", fontsize=15)\n",
    "    lambda_c = momment_of_degree_distribution(G,1)/momment_of_degree_distribution(G,2)\n",
    "    plt.axvline(lambda_c, color = 'b', label='Theoretical lambda_c')\n",
    "    plt.legend()\n",
    "    plt.title(name, fontsize=30)\n",
    "    plt.grid(True)\n",
    "    plt.show(True) "
   ]
  },
  {
   "cell_type": "markdown",
   "metadata": {},
   "source": [
    "Agora, serão construídos os gráficos de propagação de epidemias para cada rede base gerada."
   ]
  },
  {
   "cell_type": "code",
   "execution_count": 11,
   "metadata": {},
   "outputs": [
    {
     "data": {
      "image/png": "[encoded data removed]",
      "text/plain": [
       "<Figure size 432x288 with 1 Axes>"
      ]
     },
     "metadata": {
      "needs_background": "light"
     },
     "output_type": "display_data"
    }
   ],
   "source": [
    "plot_SIR(erdos, \"Erdös-Rényi\")\n",
    "plot_SIR(bara, \"Barabási-Albert\")\n",
    "plot_SIR(sw001, \"Small-World - p=0.001\")\n",
    "plot_SIR(sw01, \"Small-World - p=0.01\")\n",
    "plot_SIR(sw1, \"Small-World - p=0.1\")"
   ]
  },
  {
   "cell_type": "markdown",
   "metadata": {},
   "source": [
    "[Voltar para o topo](#lista)"
   ]
  },
  {
   "cell_type": "markdown",
   "metadata": {},
   "source": [
    "## <a id=\"3\">EXERCÍCIO 3</a>\n",
    "\n",
    "Carregando as redes base para desenvolvimento do exercício."
   ]
  },
  {
   "cell_type": "code",
   "execution_count": 2,
   "metadata": {},
   "outputs": [],
   "source": [
    "eroad = nx.Graph()\n",
    "eroad = nx.read_edgelist('Networks/euroroad.txt', nodetype=int, comments='%')\n",
    "eroad = eroad.to_undirected()\n",
    "eroad.remove_edges_from(nx.selfloop_edges(eroad))\n",
    "\n",
    "hams = nx.Graph()\n",
    "hams = nx.read_edgelist('Networks/hamster', nodetype=int, comments='%')\n",
    "hams = hams.to_undirected()\n",
    "hams.remove_edges_from(nx.selfloop_edges(hams))\n",
    "\n",
    "elegans = nx.MultiGraph()\n",
    "elegans = nx.nx.read_gml('Networks/celegansneural.gml')\n",
    "elegans = nx.Graph(elegans)\n",
    "elegans = elegans.to_undirected()\n",
    "elegans = nx.convert_node_labels_to_integers(elegans, first_label=0)\n",
    "elegans.remove_edges_from(nx.selfloop_edges(elegans))\n",
    "\n",
    "airport = nx.Graph()\n",
    "airport = nx.read_edgelist(\"Networks/usairport.txt\", nodetype=int, data=(('weight',int),))\n",
    "airport = airport.to_undirected()\n",
    "airport.remove_edges_from(nx.selfloop_edges(airport))"
   ]
  },
  {
   "cell_type": "code",
   "execution_count": null,
   "metadata": {},
   "outputs": [],
   "source": []
  },
  {
   "cell_type": "markdown",
   "metadata": {},
   "source": [
    "[Voltar para o topo](#lista)"
   ]
  }
 ],
 "metadata": {
  "kernelspec": {
   "display_name": "Python 3",
   "language": "python",
   "name": "python3"
  },
  "language_info": {
   "codemirror_mode": {
    "name": "ipython",
    "version": 3
   },
   "file_extension": ".py",
   "mimetype": "text/x-python",
   "name": "python",
   "nbconvert_exporter": "python",
   "pygments_lexer": "ipython3",
   "version": "3.6.8"
  }
 },
 "nbformat": 4,
 "nbformat_minor": 4
}
